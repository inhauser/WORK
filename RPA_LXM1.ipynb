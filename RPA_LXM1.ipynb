{
 "cells": [
  {
   "cell_type": "code",
   "execution_count": 4,
   "metadata": {},
   "outputs": [
    {
     "name": "stdout",
     "output_type": "stream",
     "text": [
      "Requirement already satisfied: selenium in c:\\users\\marcelo.rotoli\\anaconda3\\lib\\site-packages (4.16.0)\n",
      "Requirement already satisfied: certifi>=2021.10.8 in c:\\users\\marcelo.rotoli\\anaconda3\\lib\\site-packages (from selenium) (2023.11.17)\n",
      "Requirement already satisfied: trio~=0.17 in c:\\users\\marcelo.rotoli\\anaconda3\\lib\\site-packages (from selenium) (0.24.0)\n",
      "Requirement already satisfied: trio-websocket~=0.9 in c:\\users\\marcelo.rotoli\\anaconda3\\lib\\site-packages (from selenium) (0.11.1)\n",
      "Requirement already satisfied: urllib3[socks]<3,>=1.26 in c:\\users\\marcelo.rotoli\\anaconda3\\lib\\site-packages (from selenium) (1.26.4)\n",
      "Requirement already satisfied: cffi>=1.14 in c:\\users\\marcelo.rotoli\\anaconda3\\lib\\site-packages (from trio~=0.17->selenium) (1.14.5)\n",
      "Requirement already satisfied: idna in c:\\users\\marcelo.rotoli\\anaconda3\\lib\\site-packages (from trio~=0.17->selenium) (2.10)\n",
      "Requirement already satisfied: sortedcontainers in c:\\users\\marcelo.rotoli\\anaconda3\\lib\\site-packages (from trio~=0.17->selenium) (2.3.0)\n",
      "Requirement already satisfied: sniffio>=1.3.0 in c:\\users\\marcelo.rotoli\\anaconda3\\lib\\site-packages (from trio~=0.17->selenium) (1.3.0)\n",
      "Requirement already satisfied: attrs>=20.1.0 in c:\\users\\marcelo.rotoli\\anaconda3\\lib\\site-packages (from trio~=0.17->selenium) (20.3.0)\n",
      "Requirement already satisfied: outcome in c:\\users\\marcelo.rotoli\\anaconda3\\lib\\site-packages (from trio~=0.17->selenium) (1.3.0.post0)\n",
      "Requirement already satisfied: exceptiongroup in c:\\users\\marcelo.rotoli\\anaconda3\\lib\\site-packages (from trio~=0.17->selenium) (1.2.0)\n",
      "Requirement already satisfied: pycparser in c:\\users\\marcelo.rotoli\\anaconda3\\lib\\site-packages (from cffi>=1.14->trio~=0.17->selenium) (2.20)\n",
      "Requirement already satisfied: wsproto>=0.14 in c:\\users\\marcelo.rotoli\\anaconda3\\lib\\site-packages (from trio-websocket~=0.9->selenium) (1.2.0)\n",
      "Requirement already satisfied: PySocks!=1.5.7,<2.0,>=1.5.6 in c:\\users\\marcelo.rotoli\\anaconda3\\lib\\site-packages (from urllib3[socks]<3,>=1.26->selenium) (1.7.1)\n",
      "Requirement already satisfied: h11<1,>=0.9.0 in c:\\users\\marcelo.rotoli\\anaconda3\\lib\\site-packages (from wsproto>=0.14->trio-websocket~=0.9->selenium) (0.14.0)\n"
     ]
    }
   ],
   "source": [
    "!pip install selenium\n",
    "\n",
    "from selenium import webdriver\n",
    "from selenium.webdriver.common.keys import Keys\n",
    "from selenium.webdriver.common.by import By\n",
    "from selenium.webdriver.support.ui import WebDriverWait\n",
    "from selenium.webdriver.support import expected_conditions as EC\n",
    "from selenium.common.exceptions import NoSuchElementException\n",
    "import pandas as pd\n",
    "import time"
   ]
  },
  {
   "cell_type": "code",
   "execution_count": 5,
   "metadata": {},
   "outputs": [],
   "source": [
    "#Login Produção\n",
    "\n",
    "#Seleção do driver para usar o Edge (Entender o porque não está funcionando o chrome)\n",
    "options = webdriver.EdgeOptions()\n",
    "driver = webdriver.Edge(options=options)\n",
    "\n",
    "#Acessar o link do Lemontech\n",
    "driver.get(\"https://azul.skore.io/login\")\n",
    "driver.maximize_window()\n",
    "driver.implicitly_wait(2)\n",
    "\n",
    "#Clica no botão para fazer o login por SSO\n",
    "WebDriverWait(driver, 20).until(EC.element_to_be_clickable((By.XPATH, \"\"\"/html/body/div[1]/div/main/div[2]/div[2]/div/div/div/div[1]/button\"\"\"))).click()\n",
    "\n",
    "#Ir para a tela de turmas\n",
    "driver.get(\"https://azul.skore.io/spaces\")\n"
   ]
  },
  {
   "cell_type": "markdown",
   "metadata": {},
   "source": [
    "#Login Homolog\n",
    "\n",
    "#Seleção do driver para usar o Edge (Entender o porque não está funcionando o chrome)\n",
    "options = webdriver.EdgeOptions()\n",
    "driver = webdriver.Edge(options=options)\n",
    "\n",
    "#Acessar o link do Lemontech\n",
    "driver.get(\"https://azulhomolog.learning.rocks/login\")\n",
    "driver.maximize_window()\n",
    "driver.implicitly_wait(2)\n",
    "\n",
    "time.sleep(5)\n",
    "\n",
    "#Preencher os dados de usuário\n",
    "elem = driver.find_element(By.XPATH, \"\"\"/html/body/div[1]/div/main/div[3]/div/div/div/div[2]/div/div/div/div[3]/form/div[1]/div/input\"\"\")\n",
    "elem.clear()\n",
    "elem.send_keys(\"thiago.voigtlander@voeazul.com.br\")\n",
    "\n",
    "#Preencher os dados de senha\n",
    "elem = driver.find_element(By.XPATH, \"\"\"/html/body/div[1]/div/main/div[3]/div/div/div/div[2]/div/div/div/div[3]/form/div[2]/div/input\"\"\")\n",
    "elem.clear()\n",
    "elem.send_keys(\"Azul2024*\")\n",
    "\n",
    "#Clica no botão para logar\n",
    "WebDriverWait(driver, 20).until(EC.element_to_be_clickable((By.XPATH, \"\"\"/html/body/div[1]/div/main/div[3]/div/div/div/div[2]/div/div/div/div[3]/form/button\"\"\"))).click()\n",
    "\n",
    "time.sleep(2)\n",
    "\n",
    "#Ir para a tela de turmas\n",
    "driver.get(\"https://azulhomolog.learning.rocks/spaces\")"
   ]
  },
  {
   "cell_type": "code",
   "execution_count": 3,
   "metadata": {},
   "outputs": [],
   "source": [
    "#Clica no botão de banco de questões\n",
    "WebDriverWait(driver, 20).until(EC.element_to_be_clickable((By.XPATH, \"\"\"/html/body/div[1]/div/div/main/div/div[2]/button[2]\"\"\"))).click()"
   ]
  },
  {
   "cell_type": "code",
   "execution_count": 4,
   "metadata": {},
   "outputs": [],
   "source": [
    "#Clica no botão de questões\n",
    "WebDriverWait(driver, 20).until(EC.element_to_be_clickable((By.XPATH, \"\"\"/html/body/div[1]/div/div/main/div/div[3]/div[1]/button\"\"\"))).click()"
   ]
  },
  {
   "cell_type": "code",
   "execution_count": 5,
   "metadata": {},
   "outputs": [],
   "source": [
    "dados = pd.read_excel('questões.xlsx')"
   ]
  },
  {
   "cell_type": "code",
   "execution_count": 6,
   "metadata": {},
   "outputs": [],
   "source": [
    "def check_exists_by_xpath(xpath):\n",
    "    try:\n",
    "        driver.find_element(By.XPATH,xpath)\n",
    "    except NoSuchElementException:\n",
    "        return False\n",
    "    return True\n",
    "\n",
    "for a in range(0,len(dados)):\n",
    "\n",
    "    #Clica no botão de Nível\n",
    "    WebDriverWait(driver, 20).until(EC.element_to_be_clickable((By.XPATH, \"\"\"/html/body/div[1]/div/div/main/div/div[3]/div[5]/div/div[3]/div/div/div[2]/div/span\"\"\"))).click()\n",
    "\n",
    "    #Clica na opção da questão\n",
    "    WebDriverWait(driver, 20).until(EC.element_to_be_clickable((By.XPATH, \"\"\"/html/body/div[1]/div/div/main/div/div[3]/div[5]/div/div[3]/div/div/div[2]/ul/li[\"\"\"+str(dados.at[a,'Nível'])+\"\"\"]\"\"\"))).click()\n",
    "\n",
    "    elem = driver.find_element(By.XPATH, \"\"\"/html/body/div[1]/div/div/main/div/div[3]/div[5]/div/div[3]/div/div/section/div[2]/div/input\"\"\")\n",
    "    elem.clear()\n",
    "    elem.send_keys(dados.at[a,'Tópico'])\n",
    "\n",
    "    time.sleep(5)\n",
    "\n",
    "    if check_exists_by_xpath(\"\"\"/html/body/div[1]/div/div/main/div/div[3]/div[5]/div/div[3]/div/div/section/div[2]/div[2]/div[1]\"\"\"):\n",
    "        WebDriverWait(driver, 20).until(EC.element_to_be_clickable((By.XPATH, \"\"\"/html/body/div[1]/div/div/main/div/div[3]/div[5]/div/div[3]/div/div/section/div[2]/div[2]/div[2]/button\"\"\"))).click()\n",
    "    else:\n",
    "        WebDriverWait(driver, 20).until(EC.element_to_be_clickable((By.XPATH, \"\"\"//*[@id=\"__layout\"]/div/main/div/div[3]/div[5]/div/div[3]/div/div/section/div[2]/ul/li\"\"\"))).click()\n",
    "\n",
    "    time.sleep(1)\n",
    "    #Colocar pergunta\n",
    "    elem = driver.find_element(By.XPATH, \"\"\"/html/body/div[1]/div/div/main/div/div[3]/div[5]/div/div[3]/div/main/div[1]/div/div[2]/textarea\"\"\")\n",
    "    elem.clear()\n",
    "    elem.send_keys(dados.at[a,'ENUNCIADO DA QUESTÃO'])\n",
    "\n",
    "    time.sleep(1)\n",
    "    #Colocar resposta correta\n",
    "    elem = driver.find_element(By.XPATH, \"\"\"/html/body/div[1]/div/div/main/div/div[3]/div[5]/div/div[3]/div/main/div[2]/div[1]/div/div/main/div[2]/div[2]/div/div[2]/textarea\"\"\")\n",
    "    elem.clear()\n",
    "    elem.send_keys(dados.at[a,'ALTERNATIVA CORRETA'])\n",
    "\n",
    "    time.sleep(1)\n",
    "    #Colocar outras respostas\n",
    "    elem = driver.find_element(By.XPATH, \"\"\"/html/body/div[1]/div/div/main/div/div[3]/div[5]/div/div[3]/div/main/div[2]/div[2]/div/div/main/div[2]/div[2]/div/div[2]/textarea\"\"\")\n",
    "    elem.clear()\n",
    "    elem.send_keys(dados.at[a,'ALTERNATIVA 1'])\n",
    "\n",
    "    time.sleep(1)\n",
    "    #Clica no botão para adicionar respostas\n",
    "    WebDriverWait(driver, 20).until(EC.element_to_be_clickable((By.XPATH, \"\"\"/html/body/div[1]/div/div/main/div/div[3]/div[5]/div/div[3]/div/main/div[2]/div[3]/p\"\"\"))).click()\n",
    "    WebDriverWait(driver, 20).until(EC.element_to_be_clickable((By.XPATH, \"\"\"/html/body/div[1]/div/div/main/div/div[3]/div[5]/div/div[3]/div/main/div[2]/div[4]/p\"\"\"))).click()\n",
    "\n",
    "    time.sleep(1)\n",
    "    #Colocar outras respostas\n",
    "    elem = driver.find_element(By.XPATH, \"\"\"/html/body/div[1]/div/div/main/div/div[3]/div[5]/div/div[3]/div/main/div[2]/div[3]/div/div/main/div[2]/div[2]/div/div[2]/textarea\"\"\")\n",
    "    elem.clear()\n",
    "    elem.send_keys(dados.at[a,'ALTERNATIVA 2'])\n",
    "\n",
    "    time.sleep(1)\n",
    "    #Colocar outras respostas\n",
    "    elem = driver.find_element(By.XPATH, \"\"\"/html/body/div[1]/div/div/main/div/div[3]/div[5]/div/div[3]/div/main/div[2]/div[4]/div/div/main/div[2]/div[2]/div/div[2]/textarea\"\"\")\n",
    "    elem.clear()\n",
    "    elem.send_keys(dados.at[a,'ALTERNATIVA 3'])\n",
    "\n",
    "    time.sleep(1)\n",
    "    #Clica para colocar a primeira opção como a certa\n",
    "    WebDriverWait(driver, 20).until(EC.element_to_be_clickable((By.XPATH, \"\"\"/html/body/div[1]/div/div/main/div/div[3]/div[5]/div/div[3]/div/main/div[2]/div[1]/div/div/main/div[2]/div[1]/span\"\"\"))).click()\n",
    "    \n",
    "    time.sleep(1)\n",
    "    #Clica no salvar\n",
    "    WebDriverWait(driver, 20).until(EC.element_to_be_clickable((By.XPATH, \"\"\"/html/body/div[1]/div/div/main/div/div[3]/div[5]/div/div[4]/button[2]\"\"\"))).click()\n",
    "\n",
    "    time.sleep(1)\n",
    "    #Clica no botão de questões\n",
    "    WebDriverWait(driver, 20).until(EC.element_to_be_clickable((By.XPATH, \"\"\"/html/body/div[1]/div/div/main/div/div[3]/div[5]/div/div[4]/button[2]\"\"\"))).click()"
   ]
  },
  {
   "cell_type": "code",
   "execution_count": 7,
   "metadata": {},
   "outputs": [],
   "source": [
    "#Fechar navegador\n",
    "driver.quit()"
   ]
  },
  {
   "cell_type": "code",
   "execution_count": null,
   "metadata": {},
   "outputs": [],
   "source": []
  }
 ],
 "metadata": {
  "kernelspec": {
   "display_name": "Python 3",
   "language": "python",
   "name": "python3"
  }
 },
 "nbformat": 4,
 "nbformat_minor": 2
}
